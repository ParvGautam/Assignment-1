{
 "cells": [
  {
   "cell_type": "code",
   "execution_count": null,
   "id": "241b95b6-bfcb-4751-be10-0bf6779cd89a",
   "metadata": {},
   "outputs": [],
   "source": [
    "#Answer 1\n",
    "\"\"\"A for loop is a control flow statement that executes code for a predefined number of iterations.\n",
    "The keyword used in this control flow statement is “for”. When the number of iterations is already known, \n",
    "the for loop is used.\"\"\""
   ]
  },
  {
   "cell_type": "code",
   "execution_count": 2,
   "id": "5696bbb4-6519-4e5d-9aac-af8c99ed917e",
   "metadata": {},
   "outputs": [
    {
     "name": "stdout",
     "output_type": "stream",
     "text": [
      "10\n",
      "20\n",
      "40\n",
      "50\n"
     ]
    }
   ],
   "source": [
    "#Example\n",
    "l=[10,20,40,50]\n",
    "for i in l:\n",
    "    print(i)"
   ]
  },
  {
   "cell_type": "code",
   "execution_count": null,
   "id": "3eef4a9b-fe41-44e4-8ca4-4ce024e8c51b",
   "metadata": {},
   "outputs": [],
   "source": [
    "#While loop\n",
    "\"\"\"When the number of iterations is unknown, a \"while\" loop is used. The statement is repeated until the\n",
    "boolean value is false. Because the condition is tested at the beginning of a while loop, it is also known as \n",
    "the pre-test loop.\"\"\""
   ]
  },
  {
   "cell_type": "code",
   "execution_count": 3,
   "id": "71e86d76-7b28-4f4d-b44b-ce61ae109c12",
   "metadata": {},
   "outputs": [
    {
     "name": "stdout",
     "output_type": "stream",
     "text": [
      "1\n",
      "2\n",
      "3\n",
      "4\n",
      "5\n"
     ]
    }
   ],
   "source": [
    "#Example\n",
    "i=1\n",
    "while i<=5:\n",
    "    print(i)\n",
    "    i=i+1"
   ]
  },
  {
   "cell_type": "code",
   "execution_count": null,
   "id": "750b6596-97fc-4483-a787-22e46f14f4c1",
   "metadata": {},
   "outputs": [],
   "source": [
    "#Answer 2"
   ]
  },
  {
   "cell_type": "code",
   "execution_count": 4,
   "id": "dbacffcb-c0ca-4eb0-bf2f-2c2cb79be043",
   "metadata": {},
   "outputs": [
    {
     "name": "stdout",
     "output_type": "stream",
     "text": [
      "sum=  56\n",
      "product = 3628800\n"
     ]
    }
   ],
   "source": [
    "#For Loop\n",
    "s=1\n",
    "p=1\n",
    "for i in range(1,11):\n",
    "    s=s+i\n",
    "    p=p*i\n",
    "print(\"sum= \",s)\n",
    "print(\"product =\",p)"
   ]
  },
  {
   "cell_type": "code",
   "execution_count": null,
   "id": "634f1cd2-feb6-4b9f-bb44-676a76bd07b9",
   "metadata": {},
   "outputs": [],
   "source": [
    "#while loop"
   ]
  },
  {
   "cell_type": "code",
   "execution_count": null,
   "id": "c6fe754d-e96a-4ce0-9c8e-50db6a437dcf",
   "metadata": {},
   "outputs": [
    {
     "name": "stdout",
     "output_type": "stream",
     "text": [
      "sum = 55\n",
      "product = 3628800\n"
     ]
    }
   ],
   "source": [
    "i=1\n",
    "s=0\n",
    "p=1\n",
    "while i<=10:\n",
    "    s=s+i\n",
    "    p=p*i\n",
    "    i=i+1\n",
    "print(\"sum =\",s)\n",
    "print(\"product =\",p)"
   ]
  },
  {
   "cell_type": "code",
   "execution_count": 16,
   "id": "1667b2c3-999b-4cb3-8acb-396a0d118b06",
   "metadata": {},
   "outputs": [
    {
     "name": "stdout",
     "output_type": "stream",
     "text": [
      "Enter Unit used: 310\n"
     ]
    },
    {
     "name": "stdout",
     "output_type": "stream",
     "text": [
      "2250.0\n"
     ]
    }
   ],
   "source": [
    "#Answer 3\n",
    "unit=int(input(\"Enter Unit used:\"))\n",
    "if unit<=100:\n",
    "    bill=unit*4.5\n",
    "elif unit>100 and unit<=200:\n",
    "    bill=(100*4.5)+(unit-100)*6\n",
    "elif unit>200 and unit<=300:\n",
    "    bill=(100*4.5)+(100*6)+(unit-200)*10\n",
    "else:\n",
    "    bill=(100*4.5)+(100*6)+(100*10)+(unit-300)*20\n",
    "print(bill) "
   ]
  },
  {
   "cell_type": "code",
   "execution_count": 29,
   "id": "da4a201d-0c7f-4864-9086-5ad55ea6f6b6",
   "metadata": {},
   "outputs": [
    {
     "data": {
      "text/plain": [
       "[8,\n",
       " 64,\n",
       " 125,\n",
       " 216,\n",
       " 512,\n",
       " 1000,\n",
       " 1728,\n",
       " 2744,\n",
       " 3375,\n",
       " 4096,\n",
       " 5832,\n",
       " 8000,\n",
       " 10648,\n",
       " 13824,\n",
       " 15625,\n",
       " 17576,\n",
       " 21952,\n",
       " 27000,\n",
       " 32768,\n",
       " 39304,\n",
       " 42875,\n",
       " 46656,\n",
       " 54872,\n",
       " 64000,\n",
       " 74088,\n",
       " 85184,\n",
       " 91125,\n",
       " 97336,\n",
       " 110592,\n",
       " 125000,\n",
       " 140608,\n",
       " 157464,\n",
       " 166375,\n",
       " 175616,\n",
       " 195112,\n",
       " 216000,\n",
       " 238328,\n",
       " 262144,\n",
       " 274625,\n",
       " 287496,\n",
       " 314432,\n",
       " 343000,\n",
       " 373248,\n",
       " 405224,\n",
       " 421875,\n",
       " 438976,\n",
       " 474552,\n",
       " 512000,\n",
       " 551368,\n",
       " 592704,\n",
       " 614125,\n",
       " 636056,\n",
       " 681472,\n",
       " 729000,\n",
       " 778688,\n",
       " 830584,\n",
       " 857375,\n",
       " 884736,\n",
       " 941192,\n",
       " 1000000]"
      ]
     },
     "execution_count": 29,
     "metadata": {},
     "output_type": "execute_result"
    }
   ],
   "source": [
    "#Answer 4\n",
    "l2=[]\n",
    "for i in range(1,101):\n",
    "    cube=i**3\n",
    "    if cube%4==0 or cube%5==0:\n",
    "        l2.append(cube)\n",
    "l2\n"
   ]
  },
  {
   "cell_type": "code",
   "execution_count": 36,
   "id": "f60e9946-4f43-4d9d-9de4-7903f6d97825",
   "metadata": {},
   "outputs": [
    {
     "name": "stdout",
     "output_type": "stream",
     "text": [
      "I want to become a data scientist\n",
      "I want to become a data scientist\n",
      "I want to become a data scientist\n",
      "I want to become a data scientist\n",
      "I want to become a data scientist\n",
      "I want to become a data scientist\n",
      "I want to become a data scientist\n",
      "I want to become a data scientist\n",
      "I want to become a data scientist\n",
      "I want to become a data scientist\n",
      "I want to become a data scientist\n"
     ]
    }
   ],
   "source": [
    "#Answer 5\n",
    "String=\"I want to become a data scientist\"\n",
    "res\n",
    "for i in String:\n",
    "    if i=='a'or i=='e'or i=='i'or i=='o'or i=='u':\n",
    "        print(String)"
   ]
  },
  {
   "cell_type": "code",
   "execution_count": null,
   "id": "fe3279a8-3076-4070-8073-bd74d76fda9b",
   "metadata": {},
   "outputs": [],
   "source": []
  }
 ],
 "metadata": {
  "kernelspec": {
   "display_name": "Python 3 (ipykernel)",
   "language": "python",
   "name": "python3"
  },
  "language_info": {
   "codemirror_mode": {
    "name": "ipython",
    "version": 3
   },
   "file_extension": ".py",
   "mimetype": "text/x-python",
   "name": "python",
   "nbconvert_exporter": "python",
   "pygments_lexer": "ipython3",
   "version": "3.10.8"
  }
 },
 "nbformat": 4,
 "nbformat_minor": 5
}
